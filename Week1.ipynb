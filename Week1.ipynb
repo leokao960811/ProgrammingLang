{
  "nbformat": 4,
  "nbformat_minor": 0,
  "metadata": {
    "colab": {
      "provenance": [],
      "authorship_tag": "ABX9TyNS6ugQ8WqEgeEGfOJPo9dV",
      "include_colab_link": true
    },
    "kernelspec": {
      "name": "python3",
      "display_name": "Python 3"
    },
    "language_info": {
      "name": "python"
    }
  },
  "cells": [
    {
      "cell_type": "markdown",
      "metadata": {
        "id": "view-in-github",
        "colab_type": "text"
      },
      "source": [
        "<a href=\"https://colab.research.google.com/github/leokao960811/ProgrammingLang/blob/main/Week1.ipynb\" target=\"_parent\"><img src=\"https://colab.research.google.com/assets/colab-badge.svg\" alt=\"Open In Colab\"/></a>"
      ]
    },
    {
      "cell_type": "code",
      "execution_count": null,
      "metadata": {
        "id": "KCWePNDGMj4c"
      },
      "outputs": [],
      "source": [
        "from google.colab import userdata\n",
        "apikey = userdata.get('test')"
      ]
    },
    {
      "cell_type": "code",
      "source": [
        "import google.generativeai as genai\n",
        "genai.configure(api_key = apikey)\n",
        "model = genai.GenerativeModel(\"gemini-2.0-flash\")\n",
        "\n",
        "response = model.generate_content(\"Write a short story in 50 words.\")\n",
        "print(response.text)"
      ],
      "metadata": {
        "colab": {
          "base_uri": "https://localhost:8080/",
          "height": 72
        },
        "id": "xddmgdGfODzh",
        "outputId": "441c43a0-7f56-41d7-c8aa-d241a9dc6704"
      },
      "execution_count": null,
      "outputs": [
        {
          "output_type": "stream",
          "name": "stdout",
          "text": [
            "The lighthouse keeper found the message in a bottle: \"Turn back.\" He scoffed, the storm a familiar dance. Hours later, waves crashed against the tower, the light extinguished. His last thought, as the ocean swallowed him whole, was, \"They knew.\"\n",
            "\n"
          ]
        }
      ]
    },
    {
      "cell_type": "markdown",
      "source": [
        "Translator"
      ],
      "metadata": {
        "id": "JeZvTmlFPGfW"
      }
    },
    {
      "cell_type": "code",
      "source": [
        "def translate_text(text, target_language):\n",
        "    prompt = f\"Translate the following text to {target_language}: {text}\"\n",
        "    response = model.generate_content(prompt)\n",
        "    return response.text"
      ],
      "metadata": {
        "id": "u2FrHu1VOIDq"
      },
      "execution_count": 20,
      "outputs": []
    },
    {
      "cell_type": "code",
      "source": [
        "def translator():\n",
        "    print(\"Simple Translator\")\n",
        "    print(\"Input 'exit' to quit, 'change' to change language\")\n",
        "\n",
        "    target_language=input(\"Please input the target language to tranlate to (ex. Japanese, German): \").strip()\n",
        "\n",
        "    while True:\n",
        "        user_input = input(\"Input words you want to translate: \")\n",
        "\n",
        "        if user_input.lower() == 'exit':\n",
        "            print(\"Thanks for using!\")\n",
        "            break\n",
        "        elif user_input.lower() =='change':\n",
        "            target_language = input(\"Please input the target language to tranlate to (ex. Japanese, German): \").strip()\n",
        "\n",
        "            continue\n",
        "\n",
        "        translation = translate_text(user_input,target_language)\n",
        "        print(f\"Translation to {target_language}: {translation}\")\n"
      ],
      "metadata": {
        "id": "_xjZ_2Z5PMv9"
      },
      "execution_count": 21,
      "outputs": []
    },
    {
      "cell_type": "code",
      "source": [
        "translator()"
      ],
      "metadata": {
        "colab": {
          "base_uri": "https://localhost:8080/",
          "height": 766
        },
        "id": "Zk8PJreEP0Jt",
        "outputId": "e0357ed5-78ae-437d-e061-536e0171926a"
      },
      "execution_count": 22,
      "outputs": [
        {
          "output_type": "stream",
          "name": "stdout",
          "text": [
            "Simple Translator\n",
            "Input 'exit' to quit, 'change' to change language\n",
            "Please input the target language to tranlate to (ex. Japanese, German): English\n",
            "Input words you want to translate: 這下完蛋了。\n",
            "Translation to English: There are a few ways to translate \"這下完蛋了\" depending on the context and the level of urgency/despair you want to convey. Here are some options:\n",
            "\n",
            "*   **We're doomed.** (This is a very common and direct translation, suitable for many situations.)\n",
            "\n",
            "*   **We're finished.** (Similar to \"doomed,\" but can also imply a more immediate or sudden end.)\n",
            "\n",
            "*   **This is it.** (This is more dramatic and emphasizes the finality of the situation.)\n",
            "\n",
            "*   **We're screwed.** (More informal and expresses frustration/anger in addition to being in trouble.)\n",
            "\n",
            "*   **Now we're in trouble.** (More neutral and focuses on the problematic situation.)\n",
            "\n",
            "*   **Things are going to be bad.** (A more literal and less dramatic translation.)\n",
            "\n",
            "The best translation depends on the specific situation in which the phrase is being used. If you can provide more context, I can give you a more precise translation.\n",
            "Input words you want to translate: CHANGE\n",
            "Please input the target language to tranlate to (ex. Japanese, German): Chinese\n",
            "Input words you want to translate: I can write code.\n",
            "Translation to Chinese: There are several ways to translate \"I can write code\" into Chinese, depending on the nuance you want to convey:\n",
            "\n",
            "*   **我会写代码 (Wǒ huì xiě dàimǎ):** This is the most common and straightforward translation. It simply means \"I can write code.\"  \"会\" (huì) indicates ability learned.\n",
            "\n",
            "*   **我能写代码 (Wǒ néng xiě dàimǎ):** This is also a very common translation and conveys a similar meaning as the previous one. \"能\" (néng) indicates capability or possibility.  Often interchangeable with \"会\" in this context.\n",
            "\n",
            "*   **我能编写代码 (Wǒ néng biānxiě dàimǎ):** This is slightly more formal.  \"编写\" (biānxiě) means \"to write\" or \"to compile\" and suggests a slightly higher level of skill or a more complex coding task.\n",
            "\n",
            "*   **我能编程 (Wǒ néng biānchéng):** This is a shorter and more general way to say \"I can program.\" \"编程\" (biānchéng) means \"programming.\" It's often used as a general term for writing code.\n",
            "\n",
            "**Which one should you use?**\n",
            "\n",
            "*   For most everyday situations, **我会写代码 (Wǒ huì xiě dàimǎ)** or **我能写代码 (Wǒ néng xiě dàimǎ)** are perfectly suitable.\n",
            "*   If you want to emphasize a higher level of skill or the complexity of the code you write, you can use **我能编写代码 (Wǒ néng biānxiě dàimǎ).**\n",
            "*   If you want a shorter and more general statement about your ability to program, use **我能编程 (Wǒ néng biānchéng).**\n",
            "\n",
            "So, in most cases,  **我会写代码 (Wǒ huì xiě dàimǎ)** is probably the best and most natural translation.\n",
            "\n",
            "Input words you want to translate: exit\n",
            "Thanks for using!\n"
          ]
        }
      ]
    },
    {
      "cell_type": "markdown",
      "source": [
        "Another AI Bot"
      ],
      "metadata": {
        "id": "fn5PNCAIQt5I"
      }
    },
    {
      "cell_type": "code",
      "source": [
        "# 輔導老師聊天機器人\n",
        "def counseling_chatbot():\n",
        "    if model is None:\n",
        "        print(\"Model not initialized. Check the API key or model settings.\")\n",
        "        return\n",
        "\n",
        "    print(\"Chatbot\")\n",
        "    print(\"Input 'exit' to end conversation，or 'change' to change scenes.\")\n",
        "\n",
        "    # 設定初始場景\n",
        "    current_scene = \"你是一位哲學系的教授，能夠用簡單的方式解釋複雜的理論、道理。接著學生會問你一些問題，請用一句話來與學生溝通。\"\n",
        "\n",
        "    while True:\n",
        "        user_input = input(\"Student: \").strip()\n",
        "\n",
        "        if user_input.lower() == \"exit\":\n",
        "            print(\"Thanks for using!\")\n",
        "            break\n",
        "        elif user_input.lower() == \"change\":\n",
        "            if change==0:\n",
        "                change=1\n",
        "                current_scene = \"你是一位博學多聞的哲學系教授，能詳細的解釋理論、道理。學生接下來會問你一些問題，請用一段不超過500字的話來與學生溝通。\"\n",
        "                print(f\"Scene Updated {change}. This mode give you more detailed answers.\")\n",
        "\n",
        "\n",
        "            else:\n",
        "                change=0\n",
        "                current_scene = \"你是一位博學多聞的哲學系教授，能夠用簡單的方式解釋複雜的理論、道理。接著學生會問你一些問題，請用一句話來與學生溝通。\"\n",
        "                print(f\"Scene Updated {change}. This mode give you quick answers.\")\n",
        "\n",
        "\n",
        "            continue\n",
        "\n",
        "            continue\n",
        "\n",
        "        # 設定 prompt，結合場景與用戶輸入\n",
        "        prompt = f\"{current_scene} 學生說: {user_input} 教授會如何回應？\"\n",
        "        #print(prompt)\n",
        "\n",
        "        # 使用生成模型\n",
        "        try:\n",
        "            response = model.generate_content(prompt)\n",
        "            print(f\"Response: {response.text}\")\n",
        "        except Exception as e:\n",
        "            print(f\"Response not generated. Error: {e}\")\n",
        "\n",
        "# 啟動聊天機器人\n",
        "counseling_chatbot()"
      ],
      "metadata": {
        "id": "E6znr8_FQvW3",
        "colab": {
          "base_uri": "https://localhost:8080/"
        },
        "outputId": "6e5c9200-2ce0-4b31-d3b2-b61b2aa64a29"
      },
      "execution_count": 23,
      "outputs": [
        {
          "output_type": "stream",
          "name": "stdout",
          "text": [
            "Chatbot\n",
            "Input 'exit' to end conversation，or 'change' to change scenes.\n",
            "Student: exit\n",
            "Thanks for using!\n"
          ]
        }
      ]
    }
  ]
}