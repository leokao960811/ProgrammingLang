{
  "nbformat": 4,
  "nbformat_minor": 0,
  "metadata": {
    "colab": {
      "provenance": [],
      "authorship_tag": "ABX9TyNGCzej+SSJeIJs9RAb2z/c",
      "include_colab_link": true
    },
    "kernelspec": {
      "name": "python3",
      "display_name": "Python 3"
    },
    "language_info": {
      "name": "python"
    }
  },
  "cells": [
    {
      "cell_type": "markdown",
      "metadata": {
        "id": "view-in-github",
        "colab_type": "text"
      },
      "source": [
        "<a href=\"https://colab.research.google.com/github/leokao960811/ProgrammingLang/blob/main/Week1.ipynb\" target=\"_parent\"><img src=\"https://colab.research.google.com/assets/colab-badge.svg\" alt=\"Open In Colab\"/></a>"
      ]
    },
    {
      "cell_type": "code",
      "execution_count": null,
      "metadata": {
        "id": "KCWePNDGMj4c"
      },
      "outputs": [],
      "source": [
        "from google.colab import userdata\n",
        "apikey = userdata.get('test')"
      ]
    },
    {
      "cell_type": "code",
      "source": [
        "import google.generativeai as genai\n",
        "genai.configure(api_key = apikey)\n",
        "model = genai.GenerativeModel(\"gemini-2.0-flash\")\n",
        "\n",
        "response = model.generate_content(\"Write a short story in 50 words.\")\n",
        "print(response.text)"
      ],
      "metadata": {
        "colab": {
          "base_uri": "https://localhost:8080/",
          "height": 72
        },
        "id": "xddmgdGfODzh",
        "outputId": "441c43a0-7f56-41d7-c8aa-d241a9dc6704"
      },
      "execution_count": null,
      "outputs": [
        {
          "output_type": "stream",
          "name": "stdout",
          "text": [
            "The lighthouse keeper found the message in a bottle: \"Turn back.\" He scoffed, the storm a familiar dance. Hours later, waves crashed against the tower, the light extinguished. His last thought, as the ocean swallowed him whole, was, \"They knew.\"\n",
            "\n"
          ]
        }
      ]
    },
    {
      "cell_type": "markdown",
      "source": [
        "Translator"
      ],
      "metadata": {
        "id": "JeZvTmlFPGfW"
      }
    },
    {
      "cell_type": "code",
      "source": [
        "def translate_text(text, target_language):\n",
        "    prompt = f\"Translate the following text to {target_language}: {text}\"\n",
        "    response = model.generate_content(prompt)\n",
        "    return response.text"
      ],
      "metadata": {
        "id": "u2FrHu1VOIDq"
      },
      "execution_count": null,
      "outputs": []
    },
    {
      "cell_type": "code",
      "source": [
        "def translator():\n",
        "    print(\"Simple Translator\")\n",
        "    print(\"Input 'exit' to quit, 'change' to change language\")\n",
        "\n",
        "    target_language=input(\"Please input the target language to tranlate to (ex. Japanese, German) \").strip()\n",
        "\n",
        "    while True:\n",
        "        user_input = input(\"Input words you want to translate: \")\n",
        "\n",
        "        if user_input.lower() == 'exit':\n",
        "            print(\"Thanks for using!\")\n",
        "            break\n",
        "        elif user_input.lower() =='change':\n",
        "            target_language = input(\"Please input the target language to tranlate to (ex. Japanese, German)\").strip()\n",
        "\n",
        "            continue\n",
        "\n",
        "        translation = translate_text(user_input,target_language)\n",
        "        print(f\"Translation to {target_language}: {translation}\")\n"
      ],
      "metadata": {
        "id": "_xjZ_2Z5PMv9"
      },
      "execution_count": null,
      "outputs": []
    },
    {
      "cell_type": "code",
      "source": [
        "translator()"
      ],
      "metadata": {
        "colab": {
          "base_uri": "https://localhost:8080/",
          "height": 156
        },
        "id": "Zk8PJreEP0Jt",
        "outputId": "57e9ec78-e726-432b-9aa9-31b23b1abdfe"
      },
      "execution_count": null,
      "outputs": [
        {
          "output_type": "stream",
          "name": "stdout",
          "text": [
            "Simple Translator\n",
            "Input 'exit' to quit, 'change' to change language\n",
            "Please input the target language to tranlate to (ex. Japanese, German) English\n",
            "Input words you want to translate: 我喜歡寫程式\n",
            "Translation to English: I like to write code.\n",
            "\n",
            "Input words you want to translate: exit\n",
            "Thanks for using!\n"
          ]
        }
      ]
    },
    {
      "cell_type": "markdown",
      "source": [
        "Another AI Bot"
      ],
      "metadata": {
        "id": "fn5PNCAIQt5I"
      }
    },
    {
      "cell_type": "code",
      "source": [
        "# 輔導老師聊天機器人\n",
        "def counseling_chatbot():\n",
        "    if model is None:\n",
        "        print(\"Model not initialized. Check the API key or model settings.\")\n",
        "        return\n",
        "\n",
        "    print(\"Chatbot\")\n",
        "    print(\"Input 'exit' to end conversation，or 'change' to change scenes.\")\n",
        "\n",
        "    # 設定初始場景\n",
        "    current_scene = \"你是一位哲學系的教授，能夠用簡單的方式解釋複雜的理論、道理。接著學生會問你一些問題，請用一句話來與學生溝通\"\n",
        "    change = 0\n",
        "\n",
        "    while True:\n",
        "        user_input = input(\"Student: \").strip()\n",
        "\n",
        "        if user_input.lower() == \"exit\":\n",
        "            print(\"Thanks for using!\")\n",
        "            break\n",
        "        elif user_input.lower() == \"change\":\n",
        "            if change==0:\n",
        "                change=1\n",
        "                current_scene = \"你是一位博學多聞的哲學系教授，能詳細的解釋理論、道理。學生接下來會問你一些問題，請用一段不超過500字的話來與學生溝通。\"\n",
        "                print(f\"Scene Updated {change}. This mode give you more detailed answers.\")\n",
        "\n",
        "\n",
        "            else:\n",
        "                change=0\n",
        "                current_scene = \"你是一位博學多聞的哲學系教授，能夠用簡單的方式解釋複雜的理論、道理。接著學生會問你一些問題，請用一句話來與學生溝通。\"\n",
        "                print(f\"Scene Updated {change}. This mode give you quick answers.\")\n",
        "\n",
        "\n",
        "            continue\n",
        "\n",
        "            continue\n",
        "\n",
        "        # 設定 prompt，結合場景與用戶輸入\n",
        "        prompt = f\"{current_scene} 學生說: {user_input} 教授會如何回應？\"\n",
        "        #print(prompt)\n",
        "\n",
        "        # 使用生成模型\n",
        "        try:\n",
        "            response = model.generate_content(prompt)\n",
        "            print(f\"Response: {response.text}\")\n",
        "        except Exception as e:\n",
        "            print(f\"Response not generated. Error: {e}\")\n",
        "\n",
        "# 啟動聊天機器人\n",
        "counseling_chatbot()"
      ],
      "metadata": {
        "id": "E6znr8_FQvW3",
        "colab": {
          "base_uri": "https://localhost:8080/",
          "height": 488
        },
        "outputId": "9165ac68-da81-476b-8bd5-45127e55dbc4"
      },
      "execution_count": 18,
      "outputs": [
        {
          "output_type": "stream",
          "name": "stdout",
          "text": [
            "Chatbot\n",
            "Input 'exit' to end conversation，or 'change' to change scenes.\n",
            "Student: change\n",
            "Scene Updated 1. This mode give you more detailed answers.\n",
            "Student: 人為何物?\n",
            "你是一位博學多聞的哲學系教授，能詳細的解釋理論、道理。學生接下來會問你一些問題，請用一段不超過500字的話來與學生溝通。 學生說: 人為何物? 教授會如何回應？\n",
            "Response: 這位同學，你問了一個非常深刻且歷久彌新的問題：「人為何物？」這問題貫穿了哲學史，從古希臘到現代，無數思想家都試圖給出答案，但至今沒有一個能被所有人接受的定論。\n",
            "\n",
            "我們可以從幾個角度切入：\n",
            "\n",
            "*   **本質主義（Essentialism）**：認為人具有某些內在的、不變的本質。例如，亞里士多德認為人是「理性的動物」，擁有理性能力是人與其他生物的根本區別。但這種觀點會遇到挑戰，例如，如何定義理性？如何看待那些喪失或缺乏理性能力的人？\n",
            "\n",
            "*   **存在主義（Existentialism）**：強調存在先於本質。也就是說，人先存在於這個世界上，然後透過自己的選擇和行動來定義自己。沙特認為，「人是被判決為自由的」，我們必須為自己的存在負責。這種觀點更注重個體的自主性和主觀經驗。\n",
            "\n",
            "*   **生物學角度**：從生物學角度，人是一種靈長類動物，具有特定的基因、生理結構和進化歷史。這種觀點注重科學事實，但可能忽略了人的精神、文化和社會面向。\n",
            "\n",
            "*   **社會文化角度**：認為人的本質是由社會文化建構的。我們的價值觀、信仰、行為模式都受到所處社會環境的影響。這種觀點強調社會的塑造力量，但可能忽略個體的獨特性。\n",
            "\n",
            "所以，「人為何物？」並沒有一個簡單的答案。它需要我們綜合考慮哲學、生物學、社會學等多個學科的觀點，並不斷反思自己的經驗和理解。重要的是，你要保持開放的心態，批判性地思考各種觀點，並逐漸形成你自己的答案。\n",
            "\n",
            "接下來，你可以針對以上任何一個角度，或是其他你感興趣的方向，提出更具體的問題，我們一起深入探討。\n",
            "\n",
            "Student: change\n",
            "Scene Updated 0. This mode give you quick answers.\n",
            "Student: exit\n",
            "Thanks for using!\n"
          ]
        }
      ]
    }
  ]
}